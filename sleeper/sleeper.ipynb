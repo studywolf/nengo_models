{
 "cells": [
  {
   "cell_type": "markdown",
   "metadata": {},
   "source": [
    "# Overview\n",
    "\n",
    "<b>Context</b>: We are controlling a system ('the plant') for which we have no model of. We want to learn how to make it move like we want it to move.\n",
    "\n",
    "<b>Idea</b>: Use a wake / sleep pattern, where the connectivity of the network changes such that you're learning how the plant moves during the wake cycle, and learning what doing different actions resulted in during the sleep cycle. Iterate until you've learned how to make the plant move as desired. To change the connectivity we use a routing system, which is just a node now but represents the basal ganglia but jesus how much free time do you think I have?\n",
    "\n",
    "I'll walk through the construction now by building the wake and sleep networks, and then we'll mesh them together."
   ]
  },
  {
   "cell_type": "markdown",
   "metadata": {},
   "source": [
    "## Wake cycle network\n",
    "\n",
    "We want to learn two things when we're awake, the output of the network, and what input caused that output. To simplify we're not worrying about any delay from the plant or synapses. \n",
    "\n",
    "So the wake cycle network has a desired state for network, called des_x, and it sends that down to the plant. The predicted_plant_output ensemble also receives the same input as the plant, and on this connection we're learning to predict the output of the plant given the input. \n",
    "The predicted_plant_output, in turn, feeds into predicted_des_x, and on this connection we're learning given a plant_output, what was the input that caused it."
   ]
  },
  {
   "cell_type": "code",
   "execution_count": 1,
   "metadata": {
    "collapsed": false
   },
   "outputs": [
    {
     "data": {
      "application/javascript": [
       "\n",
       "    require([\"widgets/js/widget\", \"widgets/js/manager\"],\n",
       "        function(widget, manager) {\n",
       "      if (typeof widget.DOMWidgetView == 'undefined') {\n",
       "        widget = IPython;\n",
       "      }\n",
       "      if (typeof manager.WidgetManager == 'undefined') {\n",
       "        manager = IPython;\n",
       "      }\n",
       "\n",
       "      var NengoProgressBar = widget.DOMWidgetView.extend({\n",
       "        render: function() {\n",
       "          // Work-around for messed up CSS in IPython 4\n",
       "          $('.widget-subarea').css({flex: '2 1 0%'});\n",
       "          // $el is the DOM of the widget\n",
       "          this.$el.css({width: '100%', marginBottom: '0.5em'});\n",
       "          this.$el.html([\n",
       "            '<div style=\"',\n",
       "                'width: 100%;',\n",
       "                'border: 1px solid #cfcfcf;',\n",
       "                'border-radius: 4px;',\n",
       "                'text-align: center;',\n",
       "                'position: relative;\">',\n",
       "              '<div class=\"pb-text\" style=\"',\n",
       "                  'position: absolute;',\n",
       "                  'width: 100%;\">',\n",
       "                '0%',\n",
       "              '</div>',\n",
       "              '<div class=\"pb-bar\" style=\"',\n",
       "                  'background-color: #bdd2e6;',\n",
       "                  'width: 0%;',\n",
       "                  'transition: width 0.1s linear;\">',\n",
       "                '&nbsp;',\n",
       "              '</div>',\n",
       "            '</div>'].join(''));\n",
       "        },\n",
       "\n",
       "        update: function() {\n",
       "          this.$el.css({width: '100%', marginBottom: '0.5em'});\n",
       "          var progress = 100 * this.model.get('progress');\n",
       "          var text = this.model.get('text');\n",
       "          this.$el.find('div.pb-bar').width(progress.toString() + '%');\n",
       "          this.$el.find('div.pb-text').text(text);\n",
       "        },\n",
       "      });\n",
       "\n",
       "      manager.WidgetManager.register_widget_view(\n",
       "        'NengoProgressBar', NengoProgressBar);\n",
       "    });"
      ],
      "text/plain": [
       "<IPython.core.display.Javascript object>"
      ]
     },
     "metadata": {},
     "output_type": "display_data"
    },
    {
     "data": {
      "text/html": [
       "\n",
       "                <div id=\"a178214c-8aa1-4019-b6e7-269a910d8ed0\">\n",
       "                    <iframe\n",
       "                        src=\"http://localhost:47791\"\n",
       "                        width=\"100%\"\n",
       "                        height=\"600\"\n",
       "                        frameborder=\"0\"\n",
       "                        class=\"cell\"\n",
       "                        style=\"border: 1px solid #eee;\"\n",
       "                        allowfullscreen></iframe>\n",
       "                </div>\n",
       "            "
      ],
      "text/plain": [
       "<IPython.core.display.HTML object>"
      ]
     },
     "metadata": {},
     "output_type": "display_data"
    }
   ],
   "source": [
    "import nengo\n",
    "%load_ext nengo.ipynb\n",
    "\n",
    "import numpy as np\n",
    "\n",
    "%matplotlib inline \n",
    "import pylab\n",
    "    \n",
    "model = nengo.Network()\n",
    "with model:\n",
    "\n",
    "    desired_output = nengo.Node(output=np.sin)\n",
    "    des_x = nengo.Ensemble(n_neurons=100, dimensions=1)\n",
    "    nengo.Connection(desired_output, des_x)\n",
    "    \n",
    "    # create our 'plant'\n",
    "    def plant(t,x):\n",
    "        return -x\n",
    "    plant = nengo.Node(output=plant, size_in=1)\n",
    "    nengo.Connection(des_x, plant)\n",
    "    \n",
    "    predicted_plant_output = nengo.Ensemble(n_neurons=100, dimensions=1)\n",
    "    learn_conn1 = nengo.Connection(des_x, predicted_plant_output,\n",
    "                                 learning_rule_type=nengo.PES(learning_rate=1e-5))\n",
    "    nengo.Connection(plant, learn_conn1.learning_rule, transform=-1)\n",
    "    nengo.Connection(predicted_plant_output, learn_conn1.learning_rule)\n",
    "    \n",
    "    predicted_u = nengo.Ensemble(n_neurons=100, dimensions=1)\n",
    "    learn_conn2 = nengo.Connection(predicted_plant_output, predicted_u,\n",
    "                                  learning_rule_type=nengo.PES(learning_rate=1e-5))\n",
    "    nengo.Connection(des_x, learn_conn2.learning_rule, transform=-1)\n",
    "    nengo.Connection(predicted_u, learn_conn2.learning_rule)\n",
    "\n",
    "from nengo_gui.ipython import IPythonViz\n",
    "IPythonViz(model, cfg='wake_cycle.viz.cfg')"
   ]
  },
  {
   "cell_type": "markdown",
   "metadata": {},
   "source": [
    "## Sleep cycle network\n",
    "\n",
    "Here things are a little tricky. First off, we create an intermediary population between the des_x and the plant. \n",
    "The role of this population is to transform the signal from a desired plant output into the control signal u that will generate this output. \n",
    "\n",
    "Assuming that the predicted_des_x and predicted_plant_output were trained up in the wake cycle, want we want to do then is drive predicted_plant_output, and as its value changes learn what input to the plant generated them.\n",
    "\n",
    "Of course, when you run this it doesn't generate anything of interest because it hasn't been trained. But you can see the structure we want."
   ]
  },
  {
   "cell_type": "code",
   "execution_count": 2,
   "metadata": {
    "collapsed": false
   },
   "outputs": [
    {
     "data": {
      "text/html": [
       "\n",
       "                <div id=\"9cf2b4c2-7207-4b78-9a0a-46ac6043c10b\">\n",
       "                    <iframe\n",
       "                        src=\"http://localhost:37335\"\n",
       "                        width=\"100%\"\n",
       "                        height=\"600\"\n",
       "                        frameborder=\"0\"\n",
       "                        class=\"cell\"\n",
       "                        style=\"border: 1px solid #eee;\"\n",
       "                        allowfullscreen></iframe>\n",
       "                </div>\n",
       "            "
      ],
      "text/plain": [
       "<IPython.core.display.HTML object>"
      ]
     },
     "metadata": {},
     "output_type": "display_data"
    }
   ],
   "source": [
    "model = nengo.Network()\n",
    "with model:\n",
    "\n",
    "    desired_output = nengo.Node(output=np.sin)\n",
    "    des_x = nengo.Ensemble(n_neurons=100, dimensions=1)\n",
    "    \n",
    "    # create our 'plant'\n",
    "    def plant(t,x):\n",
    "        return -x\n",
    "    plant = nengo.Node(output=plant, size_in=1)\n",
    "    \n",
    "    generated_u = nengo.Ensemble(n_neurons=100, dimensions=1)\n",
    "    learn_conn3 = nengo.Connection(des_x, generated_u,\n",
    "                                  learning_rule_type=nengo.PES(learning_rate=1e-5))\n",
    "    nengo.Connection(generated_u, plant)\n",
    "    \n",
    "    predicted_plant_output = nengo.Ensemble(n_neurons=100, dimensions=1)\n",
    "    nengo.Connection(desired_output, predicted_plant_output)\n",
    "    nengo.Connection(predicted_plant_output, des_x)\n",
    "    \n",
    "    predicted_u = nengo.Ensemble(n_neurons=100, dimensions=1)\n",
    "    nengo.Connection(predicted_plant_output, predicted_u)\n",
    "    \n",
    "    nengo.Connection(predicted_u, learn_conn3.learning_rule, transform=-1)\n",
    "    nengo.Connection(generated_u, learn_conn3.learning_rule)\n",
    "\n",
    "from nengo_gui.ipython import IPythonViz\n",
    "IPythonViz(model, cfg='sleep_cycle.viz.cfg')"
   ]
  },
  {
   "cell_type": "markdown",
   "metadata": {
    "collapsed": true
   },
   "source": [
    "## Combining the networks using dynamic routing\n",
    "\n",
    "There's a lot of comments in here, but I've got a lot of comments to hopefully help through.\n",
    "\n",
    "I've added a BG node that does the routing here based on if you're awake (== 0) or asleep (== 1). \n",
    "When you're awake you're moving the plant and learning to predict output and the corresponding input. \n",
    "When you're asleep you're learning if you want the plant to do 'this' then do 'that'. \n",
    "\n",
    "The cycle switches every 50 seconds and you can see that after one iteration we've learned how to make the plant move how it wants! By 'you can see' I mean by looking at 'des_x' and 'plant_output'. On the first round of being awake they're different, but they match for the second! \n",
    "\n",
    "Important notes: \n",
    "<ul>\n",
    "<li>In sleep mode, when driving predicted_plant_output we drive it directly, not through its learned connection.\n",
    "<li>Is sleep mode, when connecting predicted_plant_output to predicted_des_x, connect through its learned connection.\n",
    "</ul>"
   ]
  },
  {
   "cell_type": "code",
   "execution_count": 3,
   "metadata": {
    "collapsed": false
   },
   "outputs": [
    {
     "data": {
      "text/html": [
       "\n",
       "                <div id=\"e3e391bb-1953-4c52-a2f8-37a791034fc9\">\n",
       "                    <iframe\n",
       "                        src=\"http://localhost:56791\"\n",
       "                        width=\"100%\"\n",
       "                        height=\"600\"\n",
       "                        frameborder=\"0\"\n",
       "                        class=\"cell\"\n",
       "                        style=\"border: 1px solid #eee;\"\n",
       "                        allowfullscreen></iframe>\n",
       "                </div>\n",
       "            "
      ],
      "text/plain": [
       "<IPython.core.display.HTML object>"
      ]
     },
     "metadata": {},
     "output_type": "display_data"
    }
   ],
   "source": [
    "model = nengo.Network()\n",
    "with model:\n",
    "    \n",
    "    driving_input = nengo.Node(output=np.sin)\n",
    "    des_x = nengo.Ensemble(n_neurons=100, dimensions=1)\n",
    "    \n",
    "    # create our 'plant'\n",
    "    def plant(t,x):\n",
    "        return -x\n",
    "    plant = nengo.Node(output=plant, size_in=1, size_out=1)\n",
    "    def mode_switching(t):\n",
    "        if (t % 100) < 50:\n",
    "            return 0\n",
    "        return 1\n",
    "    BG_mode = nengo.Node(output=mode_switching)\n",
    "    \n",
    "    predicted_plant_output = nengo.Ensemble(n_neurons=100, dimensions=1)\n",
    "    predicted_des_x = nengo.Ensemble(n_neurons=100, dimensions=1)\n",
    "    \n",
    "    def router_func(t,x):\n",
    "        # input is \n",
    "        # 0: BG mode\n",
    "        # 1: driving_input \n",
    "        # 2: learn_pop3 (from des_x)\n",
    "        # 3: plant\n",
    "        # 4: predicted_plant_output\n",
    "        # 5: predicted_des_x\n",
    "\n",
    "        # output is \n",
    "        # 0: des_x\n",
    "        # 1: plant\n",
    "        # 2: learn_pop1 (to predicted_plant_output)\n",
    "        # 3: learn_conn1.learning_rule\n",
    "        # 4: learn_pop2 (to predicted_des_x)\n",
    "        # 5: learn_conn2.learning_rule\n",
    "        # 6: predicted_plant_output\n",
    "        # 7: learn_conn3.learning_rule\n",
    "        \n",
    "        # when awake\n",
    "        if abs(x[0]) < .1: \n",
    "            return np.hstack([x[1], # driving_input to des_x\n",
    "                              x[2], # learn_pop3 (des_x) to plant\n",
    "                              x[2], # learn_pop3 (des_x) to learn_pop1 (predicted_plant_output)\n",
    "                              x[4] - x[3], # predicted_plant_output - plant to learn_conn1\n",
    "                              x[4], # predicted_plant_output to learn_pop2 (predicted_des_x)\n",
    "                              x[5] - x[2], # predicted_des_x - des_x to learn_conn2\n",
    "                              np.zeros(2), # 0 to the rest \n",
    "                              ])\n",
    "        # when asleep\n",
    "        return np.hstack([x[4], # predicted_plant_output to des_x\n",
    "                          0.0, # 0 to the plant\n",
    "                          0.0, # 0 to predicted_plant_output through its learned connection\n",
    "                          0.0, # 0 to learn_conn1 \n",
    "                          x[4], # predicted_plant_output to predicted_des_x\n",
    "                          0.0, # 0 to learn_conn2\n",
    "                          x[1], # driving_input to predicted_plant_output\n",
    "                          x[2] - x[5], # learn_pop3 (des_x) - predicted_des_x to learn_conn3\n",
    "                          ])\n",
    "    BG = nengo.Node(output=router_func, size_in=11, size_out=8)\n",
    "\n",
    "    learn_pop1 = nengo.Ensemble(n_neurons=100, dimensions=1)\n",
    "    learn_conn1 = nengo.Connection(learn_pop1, predicted_plant_output,\n",
    "                                  learning_rule_type=nengo.PES(learning_rate=1e-5))\n",
    "    learn_pop2 = nengo.Ensemble(n_neurons=100, dimensions=1)\n",
    "    learn_conn2 = nengo.Connection(learn_pop2, predicted_des_x,\n",
    "                                   learning_rule_type=nengo.PES(learning_rate=1e-5))\n",
    "    generated_u = nengo.Ensemble(n_neurons=100, dimensions=1)\n",
    "    learn_conn3 = nengo.Connection(des_x, generated_u, \n",
    "                                   learning_rule_type=nengo.PES(learning_rate=1e-5))\n",
    "\n",
    "    # BG inputs\n",
    "    nengo.Connection(BG_mode, BG[0])\n",
    "    nengo.Connection(driving_input, BG[1])\n",
    "    nengo.Connection(generated_u, BG[2])\n",
    "    nengo.Connection(plant, BG[3])\n",
    "    nengo.Connection(predicted_plant_output, BG[4])\n",
    "    nengo.Connection(predicted_des_x, BG[5])\n",
    "    # BG outputs\n",
    "    nengo.Connection(BG[0], des_x)\n",
    "    nengo.Connection(BG[1], plant)\n",
    "    nengo.Connection(BG[2], learn_pop1)\n",
    "    nengo.Connection(BG[3], learn_conn1.learning_rule)\n",
    "    nengo.Connection(BG[4], learn_pop2)\n",
    "    nengo.Connection(BG[5], learn_conn2.learning_rule)\n",
    "    nengo.Connection(BG[6], predicted_plant_output)\n",
    "    nengo.Connection(BG[7], learn_conn3.learning_rule)\n",
    "    \n",
    "from nengo_gui.ipython import IPythonViz\n",
    "IPythonViz(model, cfg='sleep.py.cfg')"
   ]
  },
  {
   "cell_type": "markdown",
   "metadata": {
    "collapsed": true
   },
   "source": [
    "# Extensions\n",
    "\n",
    "Lots of places to go from here! \n",
    "<ol>\n",
    "<li> Test on more complex plants (TWO dimensions???)\n",
    "<li> Use a full basal ganglia model\n",
    "<li> Look at more intelligently driving 'predicted_plant_output' during sleep cycle (e.g. retracing paths followed during the wake cycle, or only exploring areas of state space explored during wake cycle)\n",
    "<li> Do some learning in an SP state space\n",
    "<li> Build into a more complex network that cycles between learning and trying to achieve a specific goal\n",
    "<li> Use better tests for switching to sleep state (e.g. you've accumulated this much error, go to sleep and learn)\n",
    "<li> Explore usefulness of an exploitation only awake cycle (where you don't learn anything when awake)\n",
    "</ol>"
   ]
  },
  {
   "cell_type": "code",
   "execution_count": null,
   "metadata": {
    "collapsed": true
   },
   "outputs": [],
   "source": []
  }
 ],
 "metadata": {
  "kernelspec": {
   "display_name": "Python 2",
   "language": "python",
   "name": "python2"
  },
  "language_info": {
   "codemirror_mode": {
    "name": "ipython",
    "version": 2
   },
   "file_extension": ".py",
   "mimetype": "text/x-python",
   "name": "python",
   "nbconvert_exporter": "python",
   "pygments_lexer": "ipython2",
   "version": "2.7.6"
  }
 },
 "nbformat": 4,
 "nbformat_minor": 0
}
